{
 "cells": [
  {
   "cell_type": "code",
   "execution_count": null,
   "id": "8e2d1db2",
   "metadata": {},
   "outputs": [],
   "source": [
    "import cv2\n",
    "import numpy as np\n",
    "\n",
    "# Load the image\n",
    "image_path = 'D:/Research/Oral Cancer Detection/Data/Mendeley Data/OSCC/OSCC_100x_1.jpg'\n",
    "image = cv2.imread(image_path)\n",
    "\n",
    "# Define the rotation range in degrees\n",
    "rotation_range = 30\n",
    "\n",
    "# Generate a random rotation angle within the specified range\n",
    "angle = np.random.uniform(-rotation_range, rotation_range)\n",
    "\n",
    "# Perform image rotation\n",
    "height, width = image.shape[:2]\n",
    "center = (width // 2, height // 2)\n",
    "rotation_matrix = cv2.getRotationMatrix2D(center, angle, 1.0)\n",
    "rotated_image = cv2.warpAffine(image, rotation_matrix, (width, height))\n",
    "\n",
    "# Perform horizontal flip\n",
    "flipped_image = cv2.flip(rotated_image, 1)  # 1 indicates flipping around the y-axis\n",
    "\n",
    "# Display the original, rotated, and flipped images\n",
    "cv2.imshow('Original Image', image)\n",
    "cv2.imshow('Rotated Image', rotated_image)\n",
    "cv2.imshow('Flipped Image', flipped_image)\n",
    "cv2.waitKey(0)\n",
    "cv2.destroyAllWindows()\n"
   ]
  },
  {
   "cell_type": "code",
   "execution_count": null,
   "id": "9e5b7c7e",
   "metadata": {},
   "outputs": [],
   "source": [
    "D:/Research/Oral Cancer Detection/Data/Mendeley Data/OSCC/OSCC_100x_1.jpg"
   ]
  }
 ],
 "metadata": {
  "kernelspec": {
   "display_name": "Python 3 (ipykernel)",
   "language": "python",
   "name": "python3"
  },
  "language_info": {
   "codemirror_mode": {
    "name": "ipython",
    "version": 3
   },
   "file_extension": ".py",
   "mimetype": "text/x-python",
   "name": "python",
   "nbconvert_exporter": "python",
   "pygments_lexer": "ipython3",
   "version": "3.9.16"
  }
 },
 "nbformat": 4,
 "nbformat_minor": 5
}
