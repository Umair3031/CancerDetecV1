{
 "cells": [
  {
   "cell_type": "code",
   "execution_count": 46,
   "id": "6beaa026",
   "metadata": {},
   "outputs": [],
   "source": [
    "import tensorflow as tf\n",
    "import numpy as np\n",
    "import matplotlib.pyplot as plt\n",
    "from tensorflow.keras.layers import *\n",
    "from tensorflow.keras.models import * \n",
    "from tensorflow.keras.preprocessing import image\n",
    "import scipy\n",
    "import os\n",
    "import random\n",
    "import shutil\n",
    "# import joblib"
   ]
  },
  {
   "cell_type": "code",
   "execution_count": 47,
   "id": "c68c0db4",
   "metadata": {},
   "outputs": [],
   "source": [
    "train_set = \"D:/Research/Oral Cancer Detection/Data/Mendeley Data/100x_Split_dataset_v2/train\"\n",
    "test_set = \"D:/Research/Oral Cancer Detection/Data/Mendeley Data/100x_Split_dataset_v2/test\"\n",
    "validation_set = \"D:/Research/Oral Cancer Detection/Data/Mendeley Data/100x_Split_dataset_v2/validate\""
   ]
  },
  {
   "cell_type": "code",
   "execution_count": 48,
   "id": "d7867bdb",
   "metadata": {},
   "outputs": [
    {
     "data": {
      "text/plain": [
       "'D:/Research/Oral Cancer Detection/Data/Mendeley Data/100x_Split_dataset_v2/train'"
      ]
     },
     "execution_count": 48,
     "metadata": {},
     "output_type": "execute_result"
    }
   ],
   "source": [
    "train_set"
   ]
  },
  {
   "cell_type": "code",
   "execution_count": 49,
   "id": "634424bd",
   "metadata": {},
   "outputs": [],
   "source": [
    "train_datagen = image.ImageDataGenerator(\n",
    "    rotation_range=15,\n",
    "    shear_range=0.2,\n",
    "    zoom_range=0.2,\n",
    "    horizontal_flip=True,\n",
    "    width_shift_range=0.1,\n",
    "    height_shift_range=0.1)\n",
    "validation_datagen= image.ImageDataGenerator(\n",
    "    rotation_range=15,\n",
    "    shear_range=0.2,\n",
    "    zoom_range=0.2,\n",
    "    horizontal_flip=True,\n",
    "    width_shift_range=0.1,\n",
    "    height_shift_range=0.1)\n",
    "test_datagen= image.ImageDataGenerator(\n",
    "    rotation_range=15,\n",
    "    shear_range=0.2,\n",
    "    zoom_range=0.2,\n",
    "    horizontal_flip=True,\n",
    "    width_shift_range=0.1,\n",
    "    height_shift_range=0.1)"
   ]
  },
  {
   "cell_type": "code",
   "execution_count": 50,
   "id": "9c9b6e50",
   "metadata": {},
   "outputs": [
    {
     "name": "stdout",
     "output_type": "stream",
     "text": [
      "Found 480 images belonging to 2 classes.\n",
      "Found 149 images belonging to 2 classes.\n",
      "Found 133 images belonging to 2 classes.\n"
     ]
    }
   ],
   "source": [
    "train_generator = train_datagen.flow_from_directory(\n",
    "    train_set,\n",
    "    target_size = (224,224),\n",
    "    batch_size = 16,\n",
    "    class_mode = 'binary')\n",
    "validation_generator = validation_datagen.flow_from_directory(\n",
    "    validation_set,\n",
    "    target_size = (224,224),\n",
    "    batch_size = 16,\n",
    "    shuffle=True,\n",
    "    class_mode = 'binary')\n",
    "test_generator = test_datagen.flow_from_directory(\n",
    "    test_set,\n",
    "    target_size = (224,224),\n",
    "    batch_size = 16,\n",
    "    class_mode = 'binary')"
   ]
  },
  {
   "cell_type": "code",
   "execution_count": 51,
   "id": "34ad256d",
   "metadata": {},
   "outputs": [
    {
     "data": {
      "text/plain": [
       "{'Normal': 0, 'OSCC': 1}"
      ]
     },
     "execution_count": 51,
     "metadata": {},
     "output_type": "execute_result"
    }
   ],
   "source": [
    "train_generator.class_indices"
   ]
  },
  {
   "cell_type": "code",
   "execution_count": 52,
   "id": "835e38c3",
   "metadata": {},
   "outputs": [],
   "source": [
    "base_for_model = tf.keras.applications.VGG19(weights='imagenet', input_shape=(224,224,3), include_top=False)"
   ]
  },
  {
   "cell_type": "code",
   "execution_count": 53,
   "id": "58cbead1",
   "metadata": {},
   "outputs": [],
   "source": [
    "for layer in base_for_model.layers:\n",
    "    layer.trainable = False"
   ]
  },
  {
   "cell_type": "code",
   "execution_count": 54,
   "id": "5c9b657c",
   "metadata": {},
   "outputs": [
    {
     "name": "stdout",
     "output_type": "stream",
     "text": [
      "Model: \"sequential_2\"\n",
      "_________________________________________________________________\n",
      " Layer (type)                Output Shape              Param #   \n",
      "=================================================================\n",
      " vgg19 (Functional)          (None, 7, 7, 512)         20024384  \n",
      "                                                                 \n",
      " gaussian_noise_2 (GaussianN  (None, 7, 7, 512)        0         \n",
      " oise)                                                           \n",
      "                                                                 \n",
      " global_average_pooling2d_2   (None, 512)              0         \n",
      " (GlobalAveragePooling2D)                                        \n",
      "                                                                 \n",
      " dense_4 (Dense)             (None, 512)               262656    \n",
      "                                                                 \n",
      " batch_normalization_2 (Batc  (None, 512)              2048      \n",
      " hNormalization)                                                 \n",
      "                                                                 \n",
      " dense_5 (Dense)             (None, 1)                 513       \n",
      "                                                                 \n",
      "=================================================================\n",
      "Total params: 20,289,601\n",
      "Trainable params: 264,193\n",
      "Non-trainable params: 20,025,408\n",
      "_________________________________________________________________\n"
     ]
    }
   ],
   "source": [
    "model = Sequential()\n",
    "model.add(base_for_model) \n",
    "model.add(GaussianNoise(0.25)) #to prevent overfitting\n",
    "model.add(GlobalAveragePooling2D()) #to converge and reduce the parameters\n",
    "model.add(Dense(512, activation = 'relu')) #hidden layer (relu activation function is suggested for images)\n",
    "model.add(BatchNormalization()) #to prevent overfitting\n",
    "model.add(Dense(1, activation='sigmoid')) #output layer\n",
    "model.summary()"
   ]
  },
  {
   "cell_type": "code",
   "execution_count": 55,
   "id": "408f817a",
   "metadata": {},
   "outputs": [],
   "source": [
    "adam= tf.keras.optimizers.Adam(learning_rate=0.001)\n",
    "model.compile(optimizer=adam,loss= 'binary_crossentropy', metrics=['accuracy','Precision','Recall','AUC'])"
   ]
  },
  {
   "cell_type": "code",
   "execution_count": 56,
   "id": "3402439b",
   "metadata": {},
   "outputs": [],
   "source": [
    "mp= tf.keras.callbacks.ModelCheckpoint(filepath='vgg19.hdf5',verbose=2, save_best_only=True)\n",
    "es= tf.keras.callbacks.EarlyStopping(monitor='val_loss', min_delta=0.05, patience=3)\n",
    "callback=[es,mp]"
   ]
  },
  {
   "cell_type": "code",
   "execution_count": 57,
   "id": "ade67ec1",
   "metadata": {},
   "outputs": [
    {
     "name": "stdout",
     "output_type": "stream",
     "text": [
      "[name: \"/device:CPU:0\"\n",
      "device_type: \"CPU\"\n",
      "memory_limit: 268435456\n",
      "locality {\n",
      "}\n",
      "incarnation: 9686404986799681717\n",
      "xla_global_id: -1\n",
      ", name: \"/device:GPU:0\"\n",
      "device_type: \"GPU\"\n",
      "memory_limit: 881848320\n",
      "locality {\n",
      "  bus_id: 1\n",
      "  links {\n",
      "  }\n",
      "}\n",
      "incarnation: 8861095484025836365\n",
      "physical_device_desc: \"device: 0, name: NVIDIA GeForce RTX 3060 Laptop GPU, pci bus id: 0000:01:00.0, compute capability: 8.6\"\n",
      "xla_global_id: 416903419\n",
      "]\n"
     ]
    }
   ],
   "source": [
    "from tensorflow.python.client import device_lib\n",
    "print(device_lib.list_local_devices())"
   ]
  },
  {
   "cell_type": "code",
   "execution_count": 58,
   "id": "b691e3e2",
   "metadata": {},
   "outputs": [
    {
     "name": "stdout",
     "output_type": "stream",
     "text": [
      "True\n"
     ]
    }
   ],
   "source": [
    "print(tf.test.is_gpu_available())"
   ]
  },
  {
   "cell_type": "code",
   "execution_count": 59,
   "id": "1ef23fd2",
   "metadata": {},
   "outputs": [
    {
     "name": "stdout",
     "output_type": "stream",
     "text": [
      "Epoch 1/10\n",
      "30/30 [==============================] - ETA: 0s - loss: 0.6332 - accuracy: 0.6896 - precision: 0.9273 - recall: 0.6768 - auc: 0.7694\n",
      "Epoch 1: val_loss improved from inf to 0.53050, saving model to vgg19.hdf5\n",
      "30/30 [==============================] - 30s 981ms/step - loss: 0.6332 - accuracy: 0.6896 - precision: 0.9273 - recall: 0.6768 - auc: 0.7694 - val_loss: 0.5305 - val_accuracy: 0.8188 - val_precision: 0.9450 - val_recall: 0.8306 - val_auc: 0.8144\n",
      "Epoch 2/10\n",
      "30/30 [==============================] - ETA: 0s - loss: 0.3743 - accuracy: 0.8479 - precision: 0.9449 - recall: 0.8662 - auc: 0.8907\n",
      "Epoch 2: val_loss did not improve from 0.53050\n",
      "30/30 [==============================] - 29s 975ms/step - loss: 0.3743 - accuracy: 0.8479 - precision: 0.9449 - recall: 0.8662 - auc: 0.8907 - val_loss: 1.4764 - val_accuracy: 0.4430 - val_precision: 1.0000 - val_recall: 0.3306 - val_auc: 0.9316\n",
      "Epoch 3/10\n",
      "30/30 [==============================] - ETA: 0s - loss: 0.2921 - accuracy: 0.8708 - precision: 0.9441 - recall: 0.8965 - auc: 0.9173\n",
      "Epoch 3: val_loss improved from 0.53050 to 0.17873, saving model to vgg19.hdf5\n",
      "30/30 [==============================] - 25s 845ms/step - loss: 0.2921 - accuracy: 0.8708 - precision: 0.9441 - recall: 0.8965 - auc: 0.9173 - val_loss: 0.1787 - val_accuracy: 0.9262 - val_precision: 0.9313 - val_recall: 0.9839 - val_auc: 0.9665\n",
      "Epoch 4/10\n",
      "30/30 [==============================] - ETA: 0s - loss: 0.2579 - accuracy: 0.8938 - precision: 0.9323 - recall: 0.9394 - auc: 0.9293\n",
      "Epoch 4: val_loss did not improve from 0.17873\n",
      "30/30 [==============================] - 24s 794ms/step - loss: 0.2579 - accuracy: 0.8938 - precision: 0.9323 - recall: 0.9394 - auc: 0.9293 - val_loss: 0.3817 - val_accuracy: 0.8591 - val_precision: 0.9558 - val_recall: 0.8710 - val_auc: 0.9108\n",
      "Epoch 5/10\n",
      "30/30 [==============================] - ETA: 0s - loss: 0.2172 - accuracy: 0.9104 - precision: 0.9337 - recall: 0.9596 - auc: 0.9480\n",
      "Epoch 5: val_loss did not improve from 0.17873\n",
      "30/30 [==============================] - 23s 773ms/step - loss: 0.2172 - accuracy: 0.9104 - precision: 0.9337 - recall: 0.9596 - auc: 0.9480 - val_loss: 0.3565 - val_accuracy: 0.8926 - val_precision: 0.9500 - val_recall: 0.9194 - val_auc: 0.9189\n",
      "Epoch 6/10\n",
      "30/30 [==============================] - ETA: 0s - loss: 0.2259 - accuracy: 0.9146 - precision: 0.9361 - recall: 0.9621 - auc: 0.9379\n",
      "Epoch 6: val_loss did not improve from 0.17873\n",
      "30/30 [==============================] - 24s 808ms/step - loss: 0.2259 - accuracy: 0.9146 - precision: 0.9361 - recall: 0.9621 - auc: 0.9379 - val_loss: 0.3236 - val_accuracy: 0.8926 - val_precision: 0.9737 - val_recall: 0.8952 - val_auc: 0.9465\n"
     ]
    }
   ],
   "source": [
    "history = model.fit(\n",
    "    train_generator,\n",
    "#     steps_per_epoch= 4946/32,\n",
    "    epochs = 10, #own choice\n",
    "    validation_data = validation_generator,\n",
    "    callbacks=callback\n",
    ")"
   ]
  },
  {
   "cell_type": "code",
   "execution_count": 60,
   "id": "42be9354",
   "metadata": {},
   "outputs": [
    {
     "name": "stdout",
     "output_type": "stream",
     "text": [
      "dict_keys(['loss', 'accuracy', 'precision', 'recall', 'auc', 'val_loss', 'val_accuracy', 'val_precision', 'val_recall', 'val_auc'])\n"
     ]
    }
   ],
   "source": [
    "print(history.history.keys())\n",
    "acc=(history.history['accuracy'])\n",
    "loss=(history.history['loss'])\n",
    "prc=(history.history['precision'])\n",
    "rec=(history.history['recall'])\n",
    "auc=(history.history['auc'])\n",
    "val_acc=(history.history['val_accuracy'])\n",
    "val_loss=(history.history['val_loss'])\n",
    "val_prc=(history.history['val_precision'])\n",
    "val_rec=(history.history['val_recall'])\n",
    "val_auc=(history.history['val_auc'])"
   ]
  },
  {
   "cell_type": "code",
   "execution_count": 61,
   "id": "3ec2fd32",
   "metadata": {},
   "outputs": [
    {
     "data": {
      "text/plain": [
       "<matplotlib.legend.Legend at 0x1ee19b40310>"
      ]
     },
     "execution_count": 61,
     "metadata": {},
     "output_type": "execute_result"
    },
    {
     "data": {
      "image/png": "[encoded data removed]",
      "text/plain": [
       "<Figure size 640x480 with 1 Axes>"
      ]
     },
     "metadata": {},
     "output_type": "display_data"
    }
   ],
   "source": [
    "plt.plot(acc)\n",
    "plt.plot(val_acc)\n",
    "plt.title('ACCURACY COMPARISON')\n",
    "plt.xlabel('epoch')\n",
    "plt.ylabel('accuracies')\n",
    "plt.title('ACCURACY COMPARISON')\n",
    "plt.legend(['train','validation'])"
   ]
  },
  {
   "cell_type": "code",
   "execution_count": 62,
   "id": "e8d43bef",
   "metadata": {},
   "outputs": [
    {
     "data": {
      "text/plain": [
       "<matplotlib.legend.Legend at 0x1ee32858fd0>"
      ]
     },
     "execution_count": 62,
     "metadata": {},
     "output_type": "execute_result"
    },
    {
     "data": {
      "image/png": "[encoded data removed]",
      "text/plain": [
       "<Figure size 640x480 with 1 Axes>"
      ]
     },
     "metadata": {},
     "output_type": "display_data"
    }
   ],
   "source": [
    "plt.title('LOSS COMPARISON')\n",
    "plt.plot(loss)\n",
    "plt.plot(val_loss)\n",
    "plt.xlabel('epoch')\n",
    "plt.ylabel('losses')\n",
    "plt.legend(['train','validation'])"
   ]
  },
  {
   "cell_type": "code",
   "execution_count": null,
   "id": "6479e8d0",
   "metadata": {},
   "outputs": [
    {
     "name": "stdout",
     "output_type": "stream",
     "text": [
      "Model Train Evaluation\n",
      "19/30 [==================>...........] - ETA: 6s - loss: 0.2819 - accuracy: 0.8882 - precision: 0.9828 - recall: 0.8837 - auc: 0.9607"
     ]
    }
   ],
   "source": [
    "print(\"Model Train Evaluation\")\n",
    "model.evaluate(train_generator)\n",
    "print(\"Model Validation Evaluation\")\n",
    "model.evaluate(validation_generator)\n",
    "print(\"Model Test Evaluation\")\n",
    "model.evaluate(test_generator)"
   ]
  },
  {
   "cell_type": "code",
   "execution_count": null,
   "id": "b3b26eaa",
   "metadata": {},
   "outputs": [],
   "source": [
    "img =(image.load_img('D:/Research/Oral Cancer Detection/Data/Mendeley Data/First Set/100x Normal Oral Cavity Histopathological Images/Normal_100x_12.jpg',target_size=(224,224)))\n",
    "imaga = image.img_to_array(img)\n",
    "image = np.expand_dims(imaga,axis=0)  \n",
    "ypred = model.predict(image)\n",
    "if ypred<0.5:\n",
    "      ypred=\"Normal\"\n",
    "else:\n",
    "      ypred=\"Squamous Cell Carcinoma\" \n",
    "plt.imshow(img)\n",
    "ypred"
   ]
  },
  {
   "cell_type": "code",
   "execution_count": 45,
   "id": "7d4c3062",
   "metadata": {},
   "outputs": [
    {
     "name": "stdout",
     "output_type": "stream",
     "text": [
      "Saved model to disk\n"
     ]
    }
   ],
   "source": [
    "model.save(\"vgg19.h5\")\n",
    "print(\"Saved model to disk\")"
   ]
  },
  {
   "cell_type": "code",
   "execution_count": null,
   "id": "67152a60",
   "metadata": {},
   "outputs": [],
   "source": []
  }
 ],
 "metadata": {
  "kernelspec": {
   "display_name": "Python 3 (ipykernel)",
   "language": "python",
   "name": "python3"
  },
  "language_info": {
   "codemirror_mode": {
    "name": "ipython",
    "version": 3
   },
   "file_extension": ".py",
   "mimetype": "text/x-python",
   "name": "python",
   "nbconvert_exporter": "python",
   "pygments_lexer": "ipython3",
   "version": "3.9.16"
  }
 },
 "nbformat": 4,
 "nbformat_minor": 5
}
