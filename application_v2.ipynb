{
 "cells": [
  {
   "cell_type": "code",
   "execution_count": 1,
   "id": "fb0fc671",
   "metadata": {},
   "outputs": [],
   "source": [
    "import tkinter as tk"
   ]
  },
  {
   "cell_type": "code",
   "execution_count": 4,
   "id": "bdf45ff4",
   "metadata": {},
   "outputs": [],
   "source": [
    "from tkinter import filedialog"
   ]
  },
  {
   "cell_type": "code",
   "execution_count": 5,
   "id": "de4a117b",
   "metadata": {},
   "outputs": [],
   "source": [
    "from PIL import Image, ImageTk"
   ]
  },
  {
   "cell_type": "code",
   "execution_count": 12,
   "id": "b042d8fd",
   "metadata": {},
   "outputs": [],
   "source": [
    "import tensorflow as tf"
   ]
  },
  {
   "cell_type": "code",
   "execution_count": 7,
   "id": "d60d15e8",
   "metadata": {},
   "outputs": [],
   "source": [
    "import numpy as np"
   ]
  },
  {
   "cell_type": "code",
   "execution_count": 8,
   "id": "a467e1fe",
   "metadata": {},
   "outputs": [],
   "source": [
    "import matplotlib.pyplot as plt"
   ]
  },
  {
   "cell_type": "code",
   "execution_count": 13,
   "id": "a9e2027f",
   "metadata": {},
   "outputs": [],
   "source": [
    "from tensorflow.keras.layers import *"
   ]
  },
  {
   "cell_type": "code",
   "execution_count": null,
   "id": "7058b2fb",
   "metadata": {},
   "outputs": [],
   "source": [
    "from tensorflow.keras.models import * "
   ]
  },
  {
   "cell_type": "code",
   "execution_count": null,
   "id": "4246797a",
   "metadata": {},
   "outputs": [],
   "source": [
    "from tensorflow.keras.preprocessing import image"
   ]
  },
  {
   "cell_type": "code",
   "execution_count": 10,
   "id": "d8f9e985",
   "metadata": {},
   "outputs": [],
   "source": [
    "import scipy"
   ]
  },
  {
   "cell_type": "code",
   "execution_count": 2,
   "id": "3a4a66de",
   "metadata": {},
   "outputs": [
    {
     "name": "stderr",
     "output_type": "stream",
     "text": [
      "Exception in Tkinter callback\n",
      "Traceback (most recent call last):\n",
      "  File \"C:\\Users\\mduma\\anaconda3\\envs\\tf2\\lib\\tkinter\\__init__.py\", line 1892, in __call__\n",
      "    return self.func(*args)\n",
      "  File \"C:\\Users\\mduma\\anaconda3\\envs\\tf2\\lib\\tkinter\\__init__.py\", line 3948, in __call__\n",
      "    self.__callback(self.__value, *args)\n",
      "  File \"C:\\Users\\mduma\\AppData\\Local\\Temp\\ipykernel_9124\\747064490.py\", line 57, in select_model\n",
      "    model = tf.keras.models.load_model(model_path)\n",
      "  File \"C:\\Users\\mduma\\anaconda3\\envs\\tf2\\lib\\site-packages\\keras\\utils\\traceback_utils.py\", line 67, in error_handler\n",
      "    raise e.with_traceback(filtered_tb) from None\n",
      "  File \"C:\\Users\\mduma\\anaconda3\\envs\\tf2\\lib\\site-packages\\keras\\saving\\save.py\", line 212, in load_model\n",
      "    raise ImportError(\n",
      "ImportError: Filepath looks like a hdf5 file but h5py is not available. filepath=vgg16.h5\n",
      "Exception in Tkinter callback\n",
      "Traceback (most recent call last):\n",
      "  File \"C:\\Users\\mduma\\anaconda3\\envs\\tf2\\lib\\tkinter\\__init__.py\", line 1892, in __call__\n",
      "    return self.func(*args)\n",
      "  File \"C:\\Users\\mduma\\anaconda3\\envs\\tf2\\lib\\tkinter\\__init__.py\", line 3948, in __call__\n",
      "    self.__callback(self.__value, *args)\n",
      "  File \"C:\\Users\\mduma\\AppData\\Local\\Temp\\ipykernel_9124\\747064490.py\", line 57, in select_model\n",
      "    model = tf.keras.models.load_model(model_path)\n",
      "  File \"C:\\Users\\mduma\\anaconda3\\envs\\tf2\\lib\\site-packages\\keras\\utils\\traceback_utils.py\", line 67, in error_handler\n",
      "    raise e.with_traceback(filtered_tb) from None\n",
      "  File \"C:\\Users\\mduma\\anaconda3\\envs\\tf2\\lib\\site-packages\\keras\\saving\\save.py\", line 212, in load_model\n",
      "    raise ImportError(\n",
      "ImportError: Filepath looks like a hdf5 file but h5py is not available. filepath=vgg16.h5\n"
     ]
    }
   ],
   "source": [
    "import tkinter as tk\n",
    "from tkinter import filedialog\n",
    "from PIL import Image, ImageTk\n",
    "import numpy as np\n",
    "import tensorflow as tf\n",
    "import matplotlib.pyplot as plt\n",
    "from tensorflow.keras.layers import *\n",
    "from tensorflow.keras.models import * \n",
    "from tensorflow.keras.preprocessing import image\n",
    "import scipy\n",
    "\n",
    "file_path = ''\n",
    "model_path = ''\n",
    "model = None\n",
    "def preprocess_image(image_path):\n",
    "    image = Image.open(image_path)\n",
    "    image = image.resize((224,224))\n",
    "    image = tf.keras.preprocessing.image.img_to_array(image)\n",
    "    image = tf.cast(image, tf.float32)/255.0\n",
    "    image = tf.expand_dims(image, axis=0)\n",
    "    #image = np.repeat(image, axis=0, repeats=None)\n",
    "    return image\n",
    "#Loading model.....\n",
    "def predict_cancer(image_path, model_path):\n",
    "    # Load the trained model\n",
    "    model = tf.keras.models.load_model(model_path)\n",
    "    image = preprocess_image(image_path)\n",
    "    prediction = model.predict(image)\n",
    "    if prediction < 0.5:\n",
    "        result = \"The image does not contain cancer.\"\n",
    "    else:\n",
    "        result = \"The image contains cancer.\"\n",
    "    return result\n",
    "def browse_file():\n",
    "    global file_path\n",
    "    file_path = filedialog.askopenfilename()\n",
    "    if file_path:\n",
    "        image = Image.open(file_path)\n",
    "        image = image.resize((400, 400))\n",
    "        photo = ImageTk.PhotoImage(image)\n",
    "        image_label.config(image=photo)\n",
    "        image_label.image = photo\n",
    "        result_label.config(text=\"Prediction will be displayed here !\")\n",
    "        model_dropdown.config(state=\"normal\")\n",
    "        model_button.config(state=\"disabled\")\n",
    "        prediction_button.config(state=\"disabled\")\n",
    "def load_model():\n",
    "    global model_path, model\n",
    "    model_path = filedialog.askopenfilename()\n",
    "    if model_path:\n",
    "        model = tf.keras.models.load_model(model_path)\n",
    "        model_button.config(state=\"disabled\")\n",
    "        prediction_button.config(state=\"normal\")\n",
    "def select_model(*args):\n",
    "    global model_path, model\n",
    "    model_path = model_var.get()\n",
    "    model = tf.keras.models.load_model(model_path)\n",
    "    prediction_button.config(state=\"normal\")\n",
    "def predict():\n",
    "    global file_path, model_path, model\n",
    "    if file_path and model:\n",
    "        result = predict_cancer(file_path, model_path)\n",
    "        result_label.config(text=result)\n",
    "#UI\n",
    "window = tk.Tk()\n",
    "window.title(\"Cancer Prediction\")\n",
    "window.geometry(\"900x400\")\n",
    "\n",
    "left_frame = tk.Frame(window)\n",
    "left_frame.pack(side=\"left\", fill=\"y\")\n",
    "image_label = tk.Label(window)\n",
    "image_label.pack(side=\"right\", pady=10)\n",
    "\n",
    "#Buttons\n",
    "browse_button = tk.Button(left_frame, text=\"Browse\", command=browse_file)\n",
    "browse_button.pack(pady=10)\n",
    "model_button = tk.Button(left_frame, text=\"View segmented image\", command=load_model)\n",
    "model_button.pack(pady=10)\n",
    "model_label = tk.Label(left_frame, text=\"Select Model:\")\n",
    "model_label.pack(pady=10)\n",
    "\n",
    "#Dropdown\n",
    "model_var = tk.StringVar()\n",
    "model_var.set(\"Select a model\")\n",
    "model_dropdown = tk.OptionMenu(left_frame, model_var, \"vgg16.h5\", \"vgg19.h5\", \"alexnet.h5\", command=select_model)\n",
    "model_dropdown.pack(pady=10)\n",
    "model_dropdown.config(state=\"disabled\")\n",
    "\n",
    "#Prediction window\n",
    "prediction_button = tk.Button(left_frame, text=\"Predict\", command=predict)\n",
    "prediction_button.pack(pady=10)\n",
    "prediction_button.config(state=\"disabled\")\n",
    "\n",
    "#result display txt\n",
    "result_label = tk.Label(left_frame, text=\"Prediction will be displayed here !\", font=(\"Arial\", 18))\n",
    "result_label.pack(pady=10)\n",
    "\n",
    "window.mainloop()"
   ]
  },
  {
   "cell_type": "code",
   "execution_count": null,
   "id": "600b9666",
   "metadata": {},
   "outputs": [],
   "source": []
  }
 ],
 "metadata": {
  "kernelspec": {
   "display_name": "Python 3 (ipykernel)",
   "language": "python",
   "name": "python3"
  },
  "language_info": {
   "codemirror_mode": {
    "name": "ipython",
    "version": 3
   },
   "file_extension": ".py",
   "mimetype": "text/x-python",
   "name": "python",
   "nbconvert_exporter": "python",
   "pygments_lexer": "ipython3",
   "version": "3.9.16"
  }
 },
 "nbformat": 4,
 "nbformat_minor": 5
}
