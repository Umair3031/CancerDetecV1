{
 "cells": [
  {
   "cell_type": "code",
   "execution_count": 1,
   "id": "339d53c3",
   "metadata": {},
   "outputs": [],
   "source": [
    "import numpy as np\n",
    "import pandas as pd\n",
    "import cv2\n",
    "import os\n",
    "from skimage.filters import roberts, sobel, scharr, prewitt\n",
    "from scipy import ndimage as nd"
   ]
  },
  {
   "cell_type": "code",
   "execution_count": 2,
   "id": "9186c9d4",
   "metadata": {},
   "outputs": [],
   "source": [
    "img=cv2.imread(\"C:/Users/mduma/Downloads/machine-learning-main/machine-learning-main/make mask/OSCC_100x_39.jpg\")\n",
    "img =cv2.cvtColor(img,cv2.COLOR_BGR2GRAY)"
   ]
  },
  {
   "cell_type": "code",
   "execution_count": 3,
   "id": "2dce95e0",
   "metadata": {},
   "outputs": [],
   "source": [
    "img2= img.reshape(-1)\n",
    "df=pd.DataFrame()\n",
    "df[\"Original Image\"]=img2\n"
   ]
  },
  {
   "cell_type": "code",
   "execution_count": 4,
   "id": "4f159e40",
   "metadata": {},
   "outputs": [],
   "source": [
    "num=1\n",
    "kernels=[]\n",
    "for theta in range(2):\n",
    "    theta=theta /4 *np.pi\n",
    "    for sigma in (1,3):\n",
    "        for lamda in np.arange(0,np.pi,np.pi /4):\n",
    "            for gamma in(0.05, 0.5):\n",
    "                gabor_label='Gabor'+str(num)\n",
    "                ksize=9\n",
    "                kernel=cv2.getGaborKernel((ksize,ksize),sigma,theta,lamda,gamma,0, ktype=cv2.CV_32F)\n",
    "                kernels.append(kernel)\n",
    "                fimg=cv2.filter2D(img,cv2.CV_8UC3,kernel)\n",
    "                filtered_img=fimg.reshape(-1)\n",
    "                df[gabor_label]=filtered_img\n",
    "                num+=1\n",
    "                        \n",
    "edges=cv2.Canny(img,100,200)\n",
    "edges1=edges.reshape(-1)\n",
    "df[\"Canny edge\"]=edges1\n",
    "        \n",
    "edge_roberts=roberts(img)\n",
    "edge_roberts1=edge_roberts.reshape(-1)\n",
    "df['Roberts']=edge_roberts1\n",
    "\n",
    "edge_sobel =sobel(img)\n",
    "edge_sobel1=edge_sobel.reshape(-1)\n",
    "df['Sobel']= edge_sobel1\n",
    "\n",
    "edge_scharr = scharr(img)\n",
    "edge_scharr1 =edge_scharr.reshape(-1)\n",
    "df['Scharr']=edge_scharr1\n",
    "\n",
    "edge_prewitt= prewitt(img)\n",
    "edge_prewitt1 = edge_prewitt.reshape(-1)\n",
    "df['Prewitt']=edge_prewitt1\n",
    "\n",
    "gaussian_img = nd.gaussian_filter(img,sigma=3)\n",
    "gaussian_img1= gaussian_img.reshape(-1)\n",
    "df['Gaussian s3']= gaussian_img1\n",
    "\n",
    "gaussian_img2= nd.gaussian_filter(img,sigma=7)\n",
    "gaussian_img3= gaussian_img.reshape(-1)\n",
    "df['Gaussian s7']=gaussian_img3\n",
    "\n",
    "median_img= nd.median_filter(img,size=3)\n",
    "median_img1= median_img.reshape(-1)\n",
    "df['Median s3']=median_img1\n",
    "\n",
    "laplacian_img = cv2.Laplacian(img, cv2.CV_8U)\n",
    "laplacian_img1 = laplacian_img.reshape(-1)\n",
    "df['Laplacian'] = laplacian_img1"
   ]
  },
  {
   "cell_type": "code",
   "execution_count": 5,
   "id": "f5a50f6e",
   "metadata": {},
   "outputs": [],
   "source": [
    "masked_img= cv2.imread(\"C:/Users/mduma/Downloads/machine-learning-main/machine-learning-main/Mask Done/OSCC_100x_39.tif\")\n",
    "masked_img=cv2.cvtColor(masked_img,cv2.COLOR_BGR2GRAY)\n",
    "masked_img1=masked_img.reshape(-1)\n",
    "df['Labels']=masked_img1"
   ]
  },
  {
   "cell_type": "code",
   "execution_count": 6,
   "id": "a17b89c4",
   "metadata": {},
   "outputs": [],
   "source": [
    "y=df[\"Labels\"].values"
   ]
  },
  {
   "cell_type": "code",
   "execution_count": 7,
   "id": "7747f1b7",
   "metadata": {},
   "outputs": [],
   "source": [
    "original_img_data=df.drop(labels=[\"Labels\"],axis=1)\n"
   ]
  },
  {
   "cell_type": "code",
   "execution_count": 8,
   "id": "95024eb1",
   "metadata": {},
   "outputs": [],
   "source": [
    "x= df.drop(labels=[\"Labels\"],axis=1)\n"
   ]
  },
  {
   "cell_type": "code",
   "execution_count": 9,
   "id": "601ca5c5",
   "metadata": {
    "scrolled": true
   },
   "outputs": [],
   "source": [
    "from sklearn.model_selection import train_test_split\n",
    "x_train,x_test, y_train , y_test = train_test_split(x,y,test_size=0.2, random_state=20)"
   ]
  },
  {
   "cell_type": "code",
   "execution_count": 10,
   "id": "642a3990",
   "metadata": {},
   "outputs": [],
   "source": [
    "from sklearn.ensemble import RandomForestClassifier\n",
    "model= RandomForestClassifier(n_estimators=25, random_state=42)"
   ]
  },
  {
   "cell_type": "code",
   "execution_count": 11,
   "id": "c464df7b",
   "metadata": {},
   "outputs": [
    {
     "data": {
      "text/html": [
       "<style>#sk-container-id-1 {color: black;background-color: white;}#sk-container-id-1 pre{padding: 0;}#sk-container-id-1 div.sk-toggleable {background-color: white;}#sk-container-id-1 label.sk-toggleable__label {cursor: pointer;display: block;width: 100%;margin-bottom: 0;padding: 0.3em;box-sizing: border-box;text-align: center;}#sk-container-id-1 label.sk-toggleable__label-arrow:before {content: \"▸\";float: left;margin-right: 0.25em;color: #696969;}#sk-container-id-1 label.sk-toggleable__label-arrow:hover:before {color: black;}#sk-container-id-1 div.sk-estimator:hover label.sk-toggleable__label-arrow:before {color: black;}#sk-container-id-1 div.sk-toggleable__content {max-height: 0;max-width: 0;overflow: hidden;text-align: left;background-color: #f0f8ff;}#sk-container-id-1 div.sk-toggleable__content pre {margin: 0.2em;color: black;border-radius: 0.25em;background-color: #f0f8ff;}#sk-container-id-1 input.sk-toggleable__control:checked~div.sk-toggleable__content {max-height: 200px;max-width: 100%;overflow: auto;}#sk-container-id-1 input.sk-toggleable__control:checked~label.sk-toggleable__label-arrow:before {content: \"▾\";}#sk-container-id-1 div.sk-estimator input.sk-toggleable__control:checked~label.sk-toggleable__label {background-color: #d4ebff;}#sk-container-id-1 div.sk-label input.sk-toggleable__control:checked~label.sk-toggleable__label {background-color: #d4ebff;}#sk-container-id-1 input.sk-hidden--visually {border: 0;clip: rect(1px 1px 1px 1px);clip: rect(1px, 1px, 1px, 1px);height: 1px;margin: -1px;overflow: hidden;padding: 0;position: absolute;width: 1px;}#sk-container-id-1 div.sk-estimator {font-family: monospace;background-color: #f0f8ff;border: 1px dotted black;border-radius: 0.25em;box-sizing: border-box;margin-bottom: 0.5em;}#sk-container-id-1 div.sk-estimator:hover {background-color: #d4ebff;}#sk-container-id-1 div.sk-parallel-item::after {content: \"\";width: 100%;border-bottom: 1px solid gray;flex-grow: 1;}#sk-container-id-1 div.sk-label:hover label.sk-toggleable__label {background-color: #d4ebff;}#sk-container-id-1 div.sk-serial::before {content: \"\";position: absolute;border-left: 1px solid gray;box-sizing: border-box;top: 0;bottom: 0;left: 50%;z-index: 0;}#sk-container-id-1 div.sk-serial {display: flex;flex-direction: column;align-items: center;background-color: white;padding-right: 0.2em;padding-left: 0.2em;position: relative;}#sk-container-id-1 div.sk-item {position: relative;z-index: 1;}#sk-container-id-1 div.sk-parallel {display: flex;align-items: stretch;justify-content: center;background-color: white;position: relative;}#sk-container-id-1 div.sk-item::before, #sk-container-id-1 div.sk-parallel-item::before {content: \"\";position: absolute;border-left: 1px solid gray;box-sizing: border-box;top: 0;bottom: 0;left: 50%;z-index: -1;}#sk-container-id-1 div.sk-parallel-item {display: flex;flex-direction: column;z-index: 1;position: relative;background-color: white;}#sk-container-id-1 div.sk-parallel-item:first-child::after {align-self: flex-end;width: 50%;}#sk-container-id-1 div.sk-parallel-item:last-child::after {align-self: flex-start;width: 50%;}#sk-container-id-1 div.sk-parallel-item:only-child::after {width: 0;}#sk-container-id-1 div.sk-dashed-wrapped {border: 1px dashed gray;margin: 0 0.4em 0.5em 0.4em;box-sizing: border-box;padding-bottom: 0.4em;background-color: white;}#sk-container-id-1 div.sk-label label {font-family: monospace;font-weight: bold;display: inline-block;line-height: 1.2em;}#sk-container-id-1 div.sk-label-container {text-align: center;}#sk-container-id-1 div.sk-container {/* jupyter's `normalize.less` sets `[hidden] { display: none; }` but bootstrap.min.css set `[hidden] { display: none !important; }` so we also need the `!important` here to be able to override the default hidden behavior on the sphinx rendered scikit-learn.org. See: https://github.com/scikit-learn/scikit-learn/issues/21755 */display: inline-block !important;position: relative;}#sk-container-id-1 div.sk-text-repr-fallback {display: none;}</style><div id=\"sk-container-id-1\" class=\"sk-top-container\"><div class=\"sk-text-repr-fallback\"><pre>RandomForestClassifier(n_estimators=25, random_state=42)</pre><b>In a Jupyter environment, please rerun this cell to show the HTML representation or trust the notebook. <br />On GitHub, the HTML representation is unable to render, please try loading this page with nbviewer.org.</b></div><div class=\"sk-container\" hidden><div class=\"sk-item\"><div class=\"sk-estimator sk-toggleable\"><input class=\"sk-toggleable__control sk-hidden--visually\" id=\"sk-estimator-id-1\" type=\"checkbox\" checked><label for=\"sk-estimator-id-1\" class=\"sk-toggleable__label sk-toggleable__label-arrow\">RandomForestClassifier</label><div class=\"sk-toggleable__content\"><pre>RandomForestClassifier(n_estimators=25, random_state=42)</pre></div></div></div></div></div>"
      ],
      "text/plain": [
       "RandomForestClassifier(n_estimators=25, random_state=42)"
      ]
     },
     "execution_count": 11,
     "metadata": {},
     "output_type": "execute_result"
    }
   ],
   "source": [
    "model.fit(x_train,y_train)"
   ]
  },
  {
   "cell_type": "code",
   "execution_count": 12,
   "id": "69d3ce78",
   "metadata": {},
   "outputs": [],
   "source": [
    "\n",
    "\n",
    "# Get the number of trees\n",
    "n_trees = len(model.estimators_)\n",
    "\n",
    "# Get the depth of each tree\n",
    "tree_depths = [estimator.tree_.max_depth for estimator in model.estimators_]\n",
    "\n",
    "# Get the number of internal nodes in each tree\n",
    "num_internal_nodes = [estimator.tree_.node_count - estimator.tree_.n_leaves for estimator in model.estimators_]\n"
   ]
  },
  {
   "cell_type": "code",
   "execution_count": 13,
   "id": "ccb2dbbe",
   "metadata": {},
   "outputs": [
    {
     "data": {
      "text/plain": [
       "[17634,\n",
       " 17718,\n",
       " 17801,\n",
       " 17840,\n",
       " 17725,\n",
       " 17669,\n",
       " 17629,\n",
       " 17697,\n",
       " 17659,\n",
       " 17595,\n",
       " 17543,\n",
       " 17593,\n",
       " 17635,\n",
       " 17705,\n",
       " 17671,\n",
       " 17748,\n",
       " 17688,\n",
       " 17489,\n",
       " 17833,\n",
       " 17776,\n",
       " 17644,\n",
       " 17902,\n",
       " 18050,\n",
       " 17428,\n",
       " 17438]"
      ]
     },
     "execution_count": 13,
     "metadata": {},
     "output_type": "execute_result"
    }
   ],
   "source": [
    "num_internal_nodes"
   ]
  },
  {
   "cell_type": "code",
   "execution_count": 14,
   "id": "f306a5ac",
   "metadata": {},
   "outputs": [
    {
     "name": "stdout",
     "output_type": "stream",
     "text": [
      "Accuracy=  0.9933163367485448\n"
     ]
    }
   ],
   "source": [
    "from sklearn import metrics\n",
    "prediction_test_random= model.predict(x_test)\n",
    "#prediction_test_svm=model_SVM.predict(x_test)\n",
    "print(\"Accuracy= \",metrics.accuracy_score(y_test,prediction_test_random))\n",
    "#print(\"Accuracy= \",metrics.accuracy_score(y_test,prediction_test_svm))"
   ]
  },
  {
   "cell_type": "code",
   "execution_count": 15,
   "id": "d15c2d91",
   "metadata": {},
   "outputs": [
    {
     "name": "stdout",
     "output_type": "stream",
     "text": [
      "              precision    recall  f1-score   support\n",
      "\n",
      "           0       0.99      1.00      1.00    624599\n",
      "         255       0.62      0.20      0.30      4547\n",
      "\n",
      "    accuracy                           0.99    629146\n",
      "   macro avg       0.81      0.60      0.65    629146\n",
      "weighted avg       0.99      0.99      0.99    629146\n",
      "\n"
     ]
    }
   ],
   "source": [
    "from sklearn.metrics import classification_report, confusion_matrix\n",
    "print(classification_report(y_test, prediction_test_random))\n",
    "#print(confusion_matrix(y_test, prediction_test_random))"
   ]
  },
  {
   "cell_type": "code",
   "execution_count": 16,
   "id": "8acdcf3d",
   "metadata": {},
   "outputs": [],
   "source": [
    "result=model.predict(original_img_data)"
   ]
  },
  {
   "cell_type": "code",
   "execution_count": 17,
   "id": "83be134b",
   "metadata": {},
   "outputs": [
    {
     "data": {
      "text/plain": [
       "(3145728,)"
      ]
     },
     "execution_count": 17,
     "metadata": {},
     "output_type": "execute_result"
    }
   ],
   "source": [
    "result.shape"
   ]
  },
  {
   "cell_type": "code",
   "execution_count": 18,
   "id": "0b027ab6",
   "metadata": {},
   "outputs": [
    {
     "data": {
      "text/plain": [
       "<matplotlib.image.AxesImage at 0x1668739c1f0>"
      ]
     },
     "execution_count": 18,
     "metadata": {},
     "output_type": "execute_result"
    },
    {
     "data": {
      "image/png": "[encoded data removed]",
      "text/plain": [
       "<Figure size 640x480 with 1 Axes>"
      ]
     },
     "metadata": {},
     "output_type": "display_data"
    }
   ],
   "source": [
    "import matplotlib.pyplot as plt\n",
    "segmented=result.reshape((img.shape))\n",
    "plt.imshow(segmented,cmap='jet')"
   ]
  },
  {
   "cell_type": "code",
   "execution_count": 19,
   "id": "b1c81157",
   "metadata": {},
   "outputs": [
    {
     "data": {
      "text/plain": [
       "True"
      ]
     },
     "execution_count": 19,
     "metadata": {},
     "output_type": "execute_result"
    }
   ],
   "source": [
    "cv2.imwrite(\"C:/Users/mduma/Downloads/machine-learning-main/machine-learning-main/Segmented/Segmentedv2.jpg\",segmented)"
   ]
  },
  {
   "cell_type": "code",
   "execution_count": 20,
   "id": "59dfc19f",
   "metadata": {},
   "outputs": [],
   "source": [
    "plt.imsave('C:/Users/mduma/Downloads/machine-learning-main/machine-learning-main/Segmented/OSCC_100x_39_sea_map.jpg', segmented, cmap ='jet')"
   ]
  },
  {
   "cell_type": "code",
   "execution_count": null,
   "id": "89d6be3c",
   "metadata": {},
   "outputs": [],
   "source": []
  }
 ],
 "metadata": {
  "kernelspec": {
   "display_name": "Python 3 (ipykernel)",
   "language": "python",
   "name": "python3"
  },
  "language_info": {
   "codemirror_mode": {
    "name": "ipython",
    "version": 3
   },
   "file_extension": ".py",
   "mimetype": "text/x-python",
   "name": "python",
   "nbconvert_exporter": "python",
   "pygments_lexer": "ipython3",
   "version": "3.9.16"
  }
 },
 "nbformat": 4,
 "nbformat_minor": 5
}
